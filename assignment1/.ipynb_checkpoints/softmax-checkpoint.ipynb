{
 "cells": [
  {
   "cell_type": "markdown",
   "metadata": {},
   "source": [
    "# Softmax exercise\n",
    "\n",
    "*Complete and hand in this completed worksheet (including its outputs and any supporting code outside of the worksheet) with your assignment submission. For more details see the [assignments page](http://vision.stanford.edu/teaching/cs231n/assignments.html) on the course website.*\n",
    "\n",
    "This exercise is analogous to the SVM exercise. You will:\n",
    "\n",
    "- implement a fully-vectorized **loss function** for the Softmax classifier\n",
    "- implement the fully-vectorized expression for its **analytic gradient**\n",
    "- **check your implementation** with numerical gradient\n",
    "- use a validation set to **tune the learning rate and regularization** strength\n",
    "- **optimize** the loss function with **SGD**\n",
    "- **visualize** the final learned weights\n"
   ]
  },
  {
   "cell_type": "code",
   "execution_count": 8,
   "metadata": {},
   "outputs": [
    {
     "name": "stdout",
     "output_type": "stream",
     "text": [
      "The autoreload extension is already loaded. To reload it, use:\n",
      "  %reload_ext autoreload\n"
     ]
    }
   ],
   "source": [
    "import random\n",
    "import numpy as np\n",
    "from cs231n.data_utils import load_CIFAR10\n",
    "import matplotlib.pyplot as plt\n",
    "\n",
    "from __future__ import print_function\n",
    "\n",
    "%matplotlib inline\n",
    "plt.rcParams['figure.figsize'] = (10.0, 8.0) # set default size of plots\n",
    "plt.rcParams['image.interpolation'] = 'nearest'\n",
    "plt.rcParams['image.cmap'] = 'gray'\n",
    "\n",
    "# for auto-reloading extenrnal modules\n",
    "# see http://stackoverflow.com/questions/1907993/autoreload-of-modules-in-ipython\n",
    "%load_ext autoreload\n",
    "%autoreload 2"
   ]
  },
  {
   "cell_type": "code",
   "execution_count": 9,
   "metadata": {},
   "outputs": [
    {
     "name": "stdout",
     "output_type": "stream",
     "text": [
      "Clear previously loaded data.\n",
      "Train data shape:  (49000, 3073)\n",
      "Train labels shape:  (49000,)\n",
      "Validation data shape:  (1000, 3073)\n",
      "Validation labels shape:  (1000,)\n",
      "Test data shape:  (1000, 3073)\n",
      "Test labels shape:  (1000,)\n",
      "dev data shape:  (500, 3073)\n",
      "dev labels shape:  (500,)\n"
     ]
    }
   ],
   "source": [
    "def get_CIFAR10_data(num_training=49000, num_validation=1000, num_test=1000, num_dev=500):\n",
    "    \"\"\"\n",
    "    Load the CIFAR-10 dataset from disk and perform preprocessing to prepare\n",
    "    it for the linear classifier. These are the same steps as we used for the\n",
    "    SVM, but condensed to a single function.  \n",
    "    \"\"\"\n",
    "    # Load the raw CIFAR-10 data\n",
    "    cifar10_dir = 'cs231n/datasets/cifar-10-batches-py'\n",
    "    \n",
    "    X_train, y_train, X_test, y_test = load_CIFAR10(cifar10_dir)\n",
    "    \n",
    "    # subsample the data\n",
    "    mask = list(range(num_training, num_training + num_validation))\n",
    "    X_val = X_train[mask]\n",
    "    y_val = y_train[mask]\n",
    "    mask = list(range(num_training))\n",
    "    X_train = X_train[mask]\n",
    "    y_train = y_train[mask]\n",
    "    mask = list(range(num_test))\n",
    "    X_test = X_test[mask]\n",
    "    y_test = y_test[mask]\n",
    "    mask = np.random.choice(num_training, num_dev, replace=False)\n",
    "    X_dev = X_train[mask]\n",
    "    y_dev = y_train[mask]\n",
    "    \n",
    "    # Preprocessing: reshape the image data into rows\n",
    "    X_train = np.reshape(X_train, (X_train.shape[0], -1))\n",
    "    X_val = np.reshape(X_val, (X_val.shape[0], -1))\n",
    "    X_test = np.reshape(X_test, (X_test.shape[0], -1))\n",
    "    X_dev = np.reshape(X_dev, (X_dev.shape[0], -1))\n",
    "    \n",
    "    # Normalize the data: subtract the mean image\n",
    "    mean_image = np.mean(X_train, axis = 0)\n",
    "    X_train -= mean_image\n",
    "    X_val -= mean_image\n",
    "    X_test -= mean_image\n",
    "    X_dev -= mean_image\n",
    "    \n",
    "    # add bias dimension and transform into columns\n",
    "    X_train = np.hstack([X_train, np.ones((X_train.shape[0], 1))])\n",
    "    X_val = np.hstack([X_val, np.ones((X_val.shape[0], 1))])\n",
    "    X_test = np.hstack([X_test, np.ones((X_test.shape[0], 1))])\n",
    "    X_dev = np.hstack([X_dev, np.ones((X_dev.shape[0], 1))])\n",
    "    \n",
    "    return X_train, y_train, X_val, y_val, X_test, y_test, X_dev, y_dev\n",
    "\n",
    "\n",
    "# Cleaning up variables to prevent loading data multiple times (which may cause memory issue)\n",
    "try:\n",
    "   del X_train, y_train\n",
    "   del X_test, y_test\n",
    "   print('Clear previously loaded data.')\n",
    "except:\n",
    "   pass\n",
    "\n",
    "# Invoke the above function to get our data.\n",
    "X_train, y_train, X_val, y_val, X_test, y_test, X_dev, y_dev = get_CIFAR10_data()\n",
    "print('Train data shape: ', X_train.shape)\n",
    "print('Train labels shape: ', y_train.shape)\n",
    "print('Validation data shape: ', X_val.shape)\n",
    "print('Validation labels shape: ', y_val.shape)\n",
    "print('Test data shape: ', X_test.shape)\n",
    "print('Test labels shape: ', y_test.shape)\n",
    "print('dev data shape: ', X_dev.shape)\n",
    "print('dev labels shape: ', y_dev.shape)"
   ]
  },
  {
   "cell_type": "markdown",
   "metadata": {},
   "source": [
    "## Softmax Classifier\n",
    "\n",
    "Your code for this section will all be written inside **cs231n/classifiers/softmax.py**. \n"
   ]
  },
  {
   "cell_type": "code",
   "execution_count": 17,
   "metadata": {},
   "outputs": [
    {
     "name": "stdout",
     "output_type": "stream",
     "text": [
      "loss: 2.409173\n",
      "sanity check: 2.302585\n"
     ]
    }
   ],
   "source": [
    "# First implement the naive softmax loss function with nested loops.\n",
    "# Open the file cs231n/classifiers/softmax.py and implement the\n",
    "# softmax_loss_naive function.\n",
    "\n",
    "from cs231n.classifiers.softmax import softmax_loss_naive\n",
    "import time\n",
    "\n",
    "# Generate a random softmax weight matrix and use it to compute the loss.\n",
    "W = np.random.randn(3073, 10) * 0.0001\n",
    "loss, grad = softmax_loss_naive(W, X_dev, y_dev, 0.0)\n",
    "\n",
    "# As a rough sanity check, our loss should be something close to -log(0.1).\n",
    "print('loss: %f' % loss)\n",
    "print('sanity check: %f' % (-np.log(0.1))) # loss 的期望值"
   ]
  },
  {
   "cell_type": "markdown",
   "metadata": {},
   "source": [
    "## Inline Question 1:\n",
    "Why do we expect our loss to be close to -log(0.1)? Explain briefly.**\n",
    "\n",
    "**Your answer:** *Fill this in*\n",
    "W 是随机初始化的，每个分类的得分都是相同的，经过 softmax 计算后，每个样本正确分类的概率是 0.1，交叉熵损失是 -log(0.1) = 2.30"
   ]
  },
  {
   "cell_type": "code",
   "execution_count": 22,
   "metadata": {},
   "outputs": [
    {
     "name": "stdout",
     "output_type": "stream",
     "text": [
      "numerical: -3.051988 analytic: -3.051988, relative error: 1.998485e-08\n",
      "numerical: 1.809000 analytic: 1.809000, relative error: 3.693283e-08\n",
      "numerical: -4.090140 analytic: -4.090140, relative error: 2.701172e-09\n",
      "numerical: 0.712054 analytic: 0.712054, relative error: 4.475954e-08\n",
      "numerical: 0.255693 analytic: 0.255693, relative error: 1.745228e-07\n",
      "numerical: 1.102536 analytic: 1.102536, relative error: 3.047219e-08\n",
      "numerical: -0.113683 analytic: -0.113683, relative error: 1.507207e-07\n",
      "numerical: 0.161350 analytic: 0.161350, relative error: 8.535085e-10\n",
      "numerical: 0.004210 analytic: 0.004210, relative error: 1.724400e-06\n",
      "numerical: 2.143690 analytic: 2.143690, relative error: 5.305637e-09\n",
      "numerical: 0.635117 analytic: 0.635117, relative error: 7.919343e-08\n",
      "numerical: -0.457016 analytic: -0.457016, relative error: 8.772494e-08\n",
      "numerical: -4.694748 analytic: -4.694748, relative error: 6.433062e-09\n",
      "numerical: 1.125070 analytic: 1.125070, relative error: 6.107528e-08\n",
      "numerical: -0.162417 analytic: -0.162417, relative error: 8.535889e-08\n",
      "numerical: -1.593085 analytic: -1.593085, relative error: 4.852040e-09\n",
      "numerical: -0.448806 analytic: -0.448806, relative error: 6.062811e-08\n",
      "numerical: 0.650077 analytic: 0.650077, relative error: 1.187032e-07\n",
      "numerical: -1.126903 analytic: -1.126903, relative error: 5.998225e-08\n",
      "numerical: -0.932493 analytic: -0.932493, relative error: 1.771449e-08\n"
     ]
    }
   ],
   "source": [
    "# Complete the implementation of softmax_loss_naive and implement a (naive)\n",
    "# version of the gradient that uses nested loops.\n",
    "loss, grad = softmax_loss_naive(W, X_dev, y_dev, 0.0)\n",
    "\n",
    "# As we did for the SVM, use numeric gradient checking as a debugging tool.\n",
    "# The numeric gradient should be close to the analytic gradient.\n",
    "from cs231n.gradient_check import grad_check_sparse\n",
    "f = lambda w: softmax_loss_naive(w, X_dev, y_dev, 0.0)[0]\n",
    "grad_numerical = grad_check_sparse(f, W, grad, 10)\n",
    "\n",
    "# similar to SVM case, do another gradient check with regularization\n",
    "loss, grad = softmax_loss_naive(W, X_dev, y_dev, 5e1)\n",
    "f = lambda w: softmax_loss_naive(w, X_dev, y_dev, 5e1)[0]\n",
    "grad_numerical = grad_check_sparse(f, W, grad, 10)"
   ]
  },
  {
   "cell_type": "code",
   "execution_count": 43,
   "metadata": {},
   "outputs": [
    {
     "name": "stdout",
     "output_type": "stream",
     "text": [
      "naive loss: 2.409173e+00 computed in 0.151015s\n",
      "vectorized loss: 2.409173e+00 computed in 0.010001s\n",
      "Loss difference: 0.000000\n",
      "Gradient difference: 0.000000\n"
     ]
    }
   ],
   "source": [
    "# Now that we have a naive implementation of the softmax loss function and its gradient,\n",
    "# implement a vectorized version in softmax_loss_vectorized.\n",
    "# The two versions should compute the same results, but the vectorized version should be\n",
    "# much faster.\n",
    "tic = time.time()\n",
    "loss_naive, grad_naive = softmax_loss_naive(W, X_dev, y_dev, 0.000005)\n",
    "toc = time.time()\n",
    "print('naive loss: %e computed in %fs' % (loss_naive, toc - tic))\n",
    "\n",
    "from cs231n.classifiers.softmax import softmax_loss_vectorized\n",
    "tic = time.time()\n",
    "loss_vectorized, grad_vectorized = softmax_loss_vectorized(W, X_dev, y_dev, 0.000005)\n",
    "toc = time.time()\n",
    "\n",
    "print('vectorized loss: %e computed in %fs' % (loss_vectorized, toc - tic))\n",
    "\n",
    "# As we did for the SVM, we use the Frobenius norm to compare the two versions\n",
    "# of the gradient.\n",
    "grad_difference = np.linalg.norm(grad_naive - grad_vectorized, ord='fro')\n",
    "print('Loss difference: %f' % np.abs(loss_naive - loss_vectorized))\n",
    "print('Gradient difference: %f' % grad_difference)"
   ]
  },
  {
   "cell_type": "code",
   "execution_count": 46,
   "metadata": {},
   "outputs": [
    {
     "name": "stdout",
     "output_type": "stream",
     "text": [
      "learning_rates 1e-07 regularization_strengths 25000.0\n",
      "iteration 0 / 1500: loss 777.739749\n",
      "iteration 100 / 1500: loss 470.443281\n",
      "iteration 200 / 1500: loss 285.221348\n",
      "iteration 300 / 1500: loss 173.225793\n",
      "iteration 400 / 1500: loss 105.731418\n",
      "iteration 500 / 1500: loss 64.679053\n",
      "iteration 600 / 1500: loss 39.993334\n",
      "iteration 700 / 1500: loss 25.121587\n",
      "iteration 800 / 1500: loss 15.980883\n",
      "iteration 900 / 1500: loss 10.523050\n",
      "iteration 1000 / 1500: loss 7.233601\n",
      "iteration 1100 / 1500: loss 5.190128\n",
      "iteration 1200 / 1500: loss 3.955940\n",
      "iteration 1300 / 1500: loss 3.329128\n",
      "iteration 1400 / 1500: loss 2.780990\n",
      "learning_rates 1e-07 regularization_strengths 32000.0\n",
      "iteration 0 / 1500: loss 985.763380\n",
      "iteration 100 / 1500: loss 518.407677\n",
      "iteration 200 / 1500: loss 273.309479\n",
      "iteration 300 / 1500: loss 144.520675\n",
      "iteration 400 / 1500: loss 77.009677\n",
      "iteration 500 / 1500: loss 41.431004\n",
      "iteration 600 / 1500: loss 22.835450\n",
      "iteration 700 / 1500: loss 12.984172\n",
      "iteration 800 / 1500: loss 7.868191\n",
      "iteration 900 / 1500: loss 5.143477\n",
      "iteration 1000 / 1500: loss 3.749534\n",
      "iteration 1100 / 1500: loss 2.908375\n",
      "iteration 1200 / 1500: loss 2.560477\n",
      "iteration 1300 / 1500: loss 2.334906\n",
      "iteration 1400 / 1500: loss 2.226548\n",
      "learning_rates 1e-07 regularization_strengths 39000.0\n",
      "iteration 0 / 1500: loss 1194.991610\n",
      "iteration 100 / 1500: loss 545.773216\n",
      "iteration 200 / 1500: loss 250.597830\n",
      "iteration 300 / 1500: loss 115.546582\n",
      "iteration 400 / 1500: loss 53.880327\n",
      "iteration 500 / 1500: loss 25.782405\n",
      "iteration 600 / 1500: loss 12.891605\n",
      "iteration 700 / 1500: loss 7.077037\n",
      "iteration 800 / 1500: loss 4.422300\n",
      "iteration 900 / 1500: loss 3.240954\n",
      "iteration 1000 / 1500: loss 2.640568\n",
      "iteration 1100 / 1500: loss 2.369226\n",
      "iteration 1200 / 1500: loss 2.213443\n",
      "iteration 1300 / 1500: loss 2.271244\n",
      "iteration 1400 / 1500: loss 2.163746\n",
      "learning_rates 1e-07 regularization_strengths 46000.0\n",
      "iteration 0 / 1500: loss 1430.949468\n",
      "iteration 100 / 1500: loss 568.335881\n",
      "iteration 200 / 1500: loss 226.857843\n",
      "iteration 300 / 1500: loss 91.256141\n",
      "iteration 400 / 1500: loss 37.427575\n",
      "iteration 500 / 1500: loss 16.254279\n",
      "iteration 600 / 1500: loss 7.745537\n",
      "iteration 700 / 1500: loss 4.349620\n",
      "iteration 800 / 1500: loss 3.076660\n",
      "iteration 900 / 1500: loss 2.515625\n",
      "iteration 1000 / 1500: loss 2.322535\n",
      "iteration 1100 / 1500: loss 2.249312\n",
      "iteration 1200 / 1500: loss 2.180475\n",
      "iteration 1300 / 1500: loss 2.235587\n",
      "iteration 1400 / 1500: loss 2.169297\n",
      "lr 1.000000e-07 reg 2.500000e+04 train accuracy: 0.349143 val accuracy: 0.359000\n",
      "lr 1.000000e-07 reg 3.200000e+04 train accuracy: 0.344429 val accuracy: 0.355000\n",
      "lr 1.000000e-07 reg 3.900000e+04 train accuracy: 0.329980 val accuracy: 0.345000\n",
      "lr 1.000000e-07 reg 4.600000e+04 train accuracy: 0.332878 val accuracy: 0.346000\n",
      "best validation accuracy achieved during cross-validation: 0.359000\n"
     ]
    }
   ],
   "source": [
    "# Use the validation set to tune hyperparameters (regularization strength and\n",
    "# learning rate). You should experiment with different ranges for the learning\n",
    "# rates and regularization strengths; if you are careful you should be able to\n",
    "# get a classification accuracy of over 0.35 on the validation set.\n",
    "from cs231n.classifiers import Softmax\n",
    "results = {}\n",
    "best_val = -1\n",
    "best_softmax = None\n",
    "learning_rates = [1e-7, 5e-7]\n",
    "regularization_strengths = [2.5e4, 5e4]\n",
    "\n",
    "################################################################################\n",
    "# TODO:                                                                        #\n",
    "# Use the validation set to set the learning rate and regularization strength. #\n",
    "# This should be identical to the validation that you did for the SVM; save    #\n",
    "# the best trained softmax classifer in best_softmax.                          #\n",
    "################################################################################\n",
    "# Your code\n",
    "################################################################################\n",
    "#                              END OF YOUR CODE                                #\n",
    "################################################################################\n",
    "from copy import deepcopy\n",
    "for lr in np.arange(learning_rates[0], learning_rates[1], 1e-5):\n",
    "    for rs in np.arange(regularization_strengths[0], regularization_strengths[1], 7e3):\n",
    "        softmax = Softmax()\n",
    "        print('learning_rates', lr, 'regularization_strengths', rs)\n",
    "        loss_hist = softmax.train(X_train, y_train, learning_rate=lr, reg=rs,\n",
    "                                  num_iters=1500, verbose=True)\n",
    "        # 测试集\n",
    "        y_train_pred = softmax.predict(X_train)\n",
    "        y_train_acc = np.mean(y_train == y_train_pred)\n",
    "        # 训练集\n",
    "        y_val_pred = softmax.predict(X_val)\n",
    "        y_val_acc = np.mean(y_val == y_val_pred)\n",
    "        results[(lr, rs)] = (y_train_acc, y_val_acc)\n",
    "        if y_val_acc > best_val:\n",
    "            best_val = y_val_acc\n",
    "            best_softmax = deepcopy(softmax)\n",
    "# Print out results.\n",
    "for lr, reg in sorted(results):\n",
    "    train_accuracy, val_accuracy = results[(lr, reg)]\n",
    "    print('lr %e reg %e train accuracy: %f val accuracy: %f' % (\n",
    "        lr, reg, train_accuracy, val_accuracy))\n",
    "\n",
    "print('best validation accuracy achieved during cross-validation: %f' % best_val)"
   ]
  },
  {
   "cell_type": "code",
   "execution_count": 47,
   "metadata": {},
   "outputs": [
    {
     "name": "stdout",
     "output_type": "stream",
     "text": [
      "softmax on raw pixels final test set accuracy: 0.369000\n"
     ]
    }
   ],
   "source": [
    "# evaluate on test set\n",
    "# Evaluate the best softmax on test set\n",
    "y_test_pred = best_softmax.predict(X_test)\n",
    "test_accuracy = np.mean(y_test == y_test_pred)\n",
    "print('softmax on raw pixels final test set accuracy: %f' % (test_accuracy, ))"
   ]
  },
  {
   "cell_type": "markdown",
   "metadata": {},
   "source": [
    "**Inline Question** - *True or False*\n",
    "\n",
    "It's possible to add a new datapoint to a training set that would leave the SVM loss unchanged, but this is not the case with the Softmax classifier loss.\n",
    "\n",
    "*Your answer*:\n",
    "True\n",
    "*Your explanation*:  \n",
    "softmax 返回的是一个概率分布，loss 总是加上一个量；SVM 的 max 之后可能还会是 0。"
   ]
  },
  {
   "cell_type": "code",
   "execution_count": 48,
   "metadata": {},
   "outputs": [
    {
     "data": {
      "image/png": "[encoded data removed]",
      "text/plain": [
       "<Figure size 720x576 with 10 Axes>"
      ]
     },
     "metadata": {},
     "output_type": "display_data"
    }
   ],
   "source": [
    "# Visualize the learned weights for each class\n",
    "w = best_softmax.W[:-1,:] # strip out the bias\n",
    "w = w.reshape(32, 32, 3, 10)\n",
    "\n",
    "w_min, w_max = np.min(w), np.max(w)\n",
    "\n",
    "classes = ['plane', 'car', 'bird', 'cat', 'deer', 'dog', 'frog', 'horse', 'ship', 'truck']\n",
    "for i in range(10):\n",
    "    plt.subplot(2, 5, i + 1)\n",
    "    \n",
    "    # Rescale the weights to be between 0 and 255\n",
    "    wimg = 255.0 * (w[:, :, :, i].squeeze() - w_min) / (w_max - w_min)\n",
    "    plt.imshow(wimg.astype('uint8'))\n",
    "    plt.axis('off')\n",
    "    plt.title(classes[i])"
   ]
  },
  {
   "cell_type": "code",
   "execution_count": null,
   "metadata": {
    "collapsed": true
   },
   "outputs": [],
   "source": []
  }
 ],
 "metadata": {
  "kernelspec": {
   "display_name": "Python 3",
   "language": "python",
   "name": "python3"
  },
  "language_info": {
   "codemirror_mode": {
    "name": "ipython",
    "version": 3
   },
   "file_extension": ".py",
   "mimetype": "text/x-python",
   "name": "python",
   "nbconvert_exporter": "python",
   "pygments_lexer": "ipython3",
   "version": "3.6.2"
  },
  "toc": {
   "base_numbering": 1,
   "nav_menu": {},
   "number_sections": true,
   "sideBar": true,
   "skip_h1_title": false,
   "title_cell": "Table of Contents",
   "title_sidebar": "Contents",
   "toc_cell": false,
   "toc_position": {},
   "toc_section_display": true,
   "toc_window_display": false
  }
 },
 "nbformat": 4,
 "nbformat_minor": 1
}
